{
 "cells": [
  {
   "cell_type": "markdown",
   "id": "079a765c",
   "metadata": {},
   "source": [
    "# **2D Transformation**"
   ]
  },
  {
   "cell_type": "code",
   "execution_count": 1,
   "id": "3e7f44ef",
   "metadata": {},
   "outputs": [
    {
     "name": "stdout",
     "output_type": "stream",
     "text": [
      "278 277\n",
      "2.0072202166064983 2.0072463768115942\n",
      "(556, 554, 4)\n"
     ]
    }
   ],
   "source": [
    "# Scaling:\n",
    "\n",
    "import matplotlib.image as img\n",
    "import numpy as npy\n",
    " \n",
    "m = img.imread(\"C:/Users/HP/Pictures/Saved Pictures/cube 3x3.png\")\n",
    " \n",
    "w, h = m.shape[:2]\n",
    "print(w,h)\n",
    "\n",
    "sX = 2\n",
    "sY = 2 \n",
    "\n",
    "xNew = int(w * sX)\n",
    "yNew = int(h * sY)\n",
    "\n",
    "xScale = xNew/(w-1)\n",
    "yScale = yNew/(h-1)\n",
    "\n",
    "print(xScale, yScale) \n",
    "\n",
    "newImage = npy.zeros([xNew, yNew, 4])\n",
    "\n",
    "for i in range(xNew-1):\n",
    "    for j in range(yNew-1):\n",
    "        newImage[i + 1, j + 1]= m[1 + int(i / xScale), 1 + int(j / yScale)]\n",
    "        \n",
    "img.imsave('C:/Users/HP/Pictures/Saved Pictures/sir_cube 3x3 scaled.png', newImage)\n",
    "print(newImage.shape)"
   ]
  },
  {
   "cell_type": "code",
   "execution_count": 2,
   "id": "1437ab43",
   "metadata": {},
   "outputs": [
    {
     "name": "stdout",
     "output_type": "stream",
     "text": [
      "168 300\n",
      "3\n",
      "2\n",
      "3.0179640718562872 2.0066889632107023\n",
      "(504, 600, 4)\n"
     ]
    }
   ],
   "source": [
    "# user input\n",
    "\n",
    "import matplotlib.image as img\n",
    "import numpy as npy\n",
    " \n",
    "m = img.imread(\"C:/Users/HP/Pictures/Saved Pictures/3x3.png\")\n",
    " \n",
    "w, h = m.shape[:2]\n",
    "print(w,h)\n",
    "\n",
    "sX = int(input())\n",
    "sY = int(input()) \n",
    "\n",
    "xNew = int(w * sX)\n",
    "yNew = int(h * sY)\n",
    "\n",
    "xScale = xNew/(w-1)\n",
    "yScale = yNew/(h-1)\n",
    "\n",
    "print(xScale, yScale) \n",
    "\n",
    "newImage = npy.zeros([xNew, yNew, 4])\n",
    "\n",
    "for i in range(xNew-1):\n",
    "    for j in range(yNew-1):\n",
    "        newImage[i + 1, j + 1]= m[1 + int(i / xScale), 1 + int(j / yScale)]\n",
    "        \n",
    "img.imsave('C:/Users/HP/Pictures/Saved Pictures/scaled.png', newImage)\n",
    "print(newImage.shape)"
   ]
  },
  {
   "cell_type": "code",
   "execution_count": null,
   "id": "6ae960ab",
   "metadata": {},
   "outputs": [],
   "source": []
  },
  {
   "cell_type": "code",
   "execution_count": 3,
   "id": "d14c7a8a",
   "metadata": {},
   "outputs": [],
   "source": [
    "# Assignment: Rotation 90degree"
   ]
  },
  {
   "cell_type": "code",
   "execution_count": 4,
   "id": "6f0c2cb5",
   "metadata": {},
   "outputs": [
    {
     "name": "stdout",
     "output_type": "stream",
     "text": [
      "278 277\n",
      "(277, 278, 4)\n"
     ]
    },
    {
     "data": {
      "image/png": "[encoded data removed]",
      "text/plain": [
       "<Figure size 640x480 with 2 Axes>"
      ]
     },
     "metadata": {},
     "output_type": "display_data"
    }
   ],
   "source": [
    "import matplotlib.pyplot as plt\n",
    "import matplotlib.image as img\n",
    "import numpy as np\n",
    "\n",
    "m = img.imread(\"C:/Users/HP/Pictures/Saved Pictures/cube 3x3.png\")\n",
    "\n",
    "w, h = m.shape[:2]\n",
    "print(w, h)\n",
    "\n",
    "rotated_image = np.rot90(m, k=1)\n",
    "rotated_image_contiguous = np.ascontiguousarray(rotated_image)\n",
    "\n",
    "img.imsave('C:/Users/HP/Pictures/Saved Pictures/cube 3x3 rotated.png', rotated_image_contiguous)\n",
    "print(rotated_image.shape)\n",
    "\n",
    "plt.subplot(1, 2, 1)\n",
    "plt.imshow(m)\n",
    "plt.subplot(1, 2, 2)\n",
    "plt.imshow(rotated_image_contiguous)\n",
    "plt.tight_layout()\n",
    "plt.show()"
   ]
  },
  {
   "cell_type": "code",
   "execution_count": null,
   "id": "af33bc8d",
   "metadata": {},
   "outputs": [],
   "source": []
  }
 ],
 "metadata": {
  "kernelspec": {
   "display_name": "Python 3 (ipykernel)",
   "language": "python",
   "name": "python3"
  },
  "language_info": {
   "codemirror_mode": {
    "name": "ipython",
    "version": 3
   },
   "file_extension": ".py",
   "mimetype": "text/x-python",
   "name": "python",
   "nbconvert_exporter": "python",
   "pygments_lexer": "ipython3",
   "version": "3.10.9"
  }
 },
 "nbformat": 4,
 "nbformat_minor": 5
}
