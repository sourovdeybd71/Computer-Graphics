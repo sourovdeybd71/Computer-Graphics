{
 "cells": [
  {
   "cell_type": "code",
   "execution_count": 1,
   "id": "f3db7cf2",
   "metadata": {},
   "outputs": [
    {
     "data": {
      "image/png": "[encoded data removed]",
      "text/plain": [
       "<Figure size 640x480 with 1 Axes>"
      ]
     },
     "metadata": {},
     "output_type": "display_data"
    }
   ],
   "source": [
    "# 2D Shearing:\n",
    "\n",
    "import matplotlib.pyplot as plt\n",
    "import numpy as np\n",
    "import cv2\n",
    "import math\n",
    "\n",
    "img = cv2.imread(\"C:/Users/HP/Pictures/Saved Pictures/cube 3x3.png\", 0)\n",
    "h, w = img.shape\n",
    "\n",
    "nimg = np.zeros((h + 250, w + 250), dtype=\"uint8\")\n",
    "radians = math.radians(30)\n",
    "\n",
    "for i in range(h):\n",
    "    for j in range(w):\n",
    "        pix = img[i][j]\n",
    "        xf = i + j * math.tan(radians)\n",
    "        yf = j\n",
    "        x2 = int(xf)\n",
    "        y2 = int(yf + 100)\n",
    "\n",
    "        if 0 <= x2 < h+250 and 0 <= y2 < w+250:\n",
    "            nimg[x2, y2] = pix\n",
    "\n",
    "fig, ax = plt.subplots()\n",
    "ax.imshow(nimg, extent=[0, 350, 200, -150], cmap='gray')\n",
    "plt.show()\n"
   ]
  },
  {
   "cell_type": "markdown",
   "id": "9badef9f",
   "metadata": {},
   "source": [
    "# 3D Transformation:"
   ]
  },
  {
   "cell_type": "code",
   "execution_count": null,
   "id": "cc123695",
   "metadata": {},
   "outputs": [],
   "source": [
    "# Translaction:\n",
    "\n",
    "n = int(input(\"Enter number of coordinates: \"))\n",
    "\n",
    "x = []\n",
    "y = []\n",
    "z = []\n",
    "\n",
    "for i in range(n):\n",
    "    ix = int(input(\"Enter x: \"))\n",
    "    iy = int(input(\"Enter y: \"))\n",
    "    iz = int(input(\"Enter z: \"))\n",
    "    \n",
    "    x.append(ix)\n",
    "    y.append(iy)\n",
    "    z.append(iz)\n",
    "\n",
    "tx = int(input(\"Enter tx: \"))\n",
    "ty = int(input(\"Enter ty: \"))\n",
    "tz = int(input(\"Enter tz: \"))\n",
    "\n",
    "for i in range(n):\n",
    "    x[i] += tx\n",
    "    y[i] += ty\n",
    "    z[i] += tz\n",
    "\n",
    "for i in range(n):\n",
    "    print(f\"New coordinates {i + 1}: ({x[i]}, {y[i]}, {z[i]})\")"
   ]
  },
  {
   "cell_type": "code",
   "execution_count": 16,
   "id": "f2bacaff",
   "metadata": {},
   "outputs": [
    {
     "name": "stdout",
     "output_type": "stream",
     "text": [
      "Enter number of coordinates: 2\n",
      "Enter angle: 30\n",
      "Enter x: 1\n",
      "Enter y: 2\n",
      "Enter z: 3\n",
      "Enter x: 3\n",
      "Enter y: 2\n",
      "Enter z: 1\n",
      "Select(x/y/z): x\n",
      "New coordinates 1: (1.0, 0.23205080756887764, 3.598076211353316)\n",
      "New coordinates 2: (3.0, 1.2320508075688774, 1.8660254037844386)\n"
     ]
    }
   ],
   "source": [
    "# Rotation: x, y, and z-axis\n",
    "\n",
    "n = int(input(\"Enter number of coordinates: \"))\n",
    "\n",
    "x = []\n",
    "y = []\n",
    "z = []\n",
    "r = math.radians(float(input(\"Enter angle: \")))\n",
    "\n",
    "for i in range(n):\n",
    "    ix = float(input(\"Enter x: \"))\n",
    "    iy = float(input(\"Enter y: \"))\n",
    "    iz = float(input(\"Enter z: \"))\n",
    "    \n",
    "    x.append(ix)\n",
    "    y.append(iy)\n",
    "    z.append(iz)\n",
    "\n",
    "a = input(\"Select(x/y/z): \")\n",
    "\n",
    "if a == 'x':\n",
    "    for i in range(n):\n",
    "        ny = y[i] * math.cos(r) - z[i] * math.sin(r)\n",
    "        nz = y[i] * math.sin(r) + z[i] * math.cos(r)\n",
    "\n",
    "        y[i] = ny\n",
    "        z[i] = nz\n",
    "    \n",
    "elif a == 'y':\n",
    "    for i in range(n):\n",
    "        nx = x[i] * math.cos(r) + z[i] * math.sin(r)\n",
    "        nz = -x[i] * math.sin(r) + z[i] * math.cos(r)\n",
    "\n",
    "        x[i] = nx\n",
    "        z[i] = nz\n",
    "    \n",
    "elif a == 'z':\n",
    "    for i in range(n):\n",
    "        nx = x[i] * math.cos(r) - y[i] * math.sin(r)\n",
    "        ny = x[i] * math.sin(r) + y[i] * math.cos(r)\n",
    "\n",
    "        x[i] = nx\n",
    "        y[i] = ny\n",
    "\n",
    "for i in range(n):\n",
    "    print(f\"New coordinates {i + 1}: ({x[i]}, {y[i]}, {z[i]})\")"
   ]
  },
  {
   "cell_type": "code",
   "execution_count": 7,
   "id": "f05bb48e",
   "metadata": {},
   "outputs": [
    {
     "name": "stdout",
     "output_type": "stream",
     "text": [
      "Enter number of coordinates: 2\n",
      "Enter x: 1\n",
      "Enter y: 2\n",
      "Enter z: 3\n",
      "Enter x: 3\n",
      "Enter y: 2\n",
      "Enter z: 1\n",
      "Enter sx: 3\n",
      "Enter sy: 3\n",
      "Enter sz: 3\n",
      "New coordinates 1: (3, 6, 9)\n",
      "New coordinates 2: (9, 6, 3)\n"
     ]
    }
   ],
   "source": [
    "# Scaling:\n",
    "\n",
    "n = int(input(\"Enter number of coordinates: \"))\n",
    "\n",
    "x = []\n",
    "y = []\n",
    "z = []\n",
    "\n",
    "for i in range(n):\n",
    "    ix = int(input(\"Enter x: \"))\n",
    "    iy = int(input(\"Enter y: \"))\n",
    "    iz = int(input(\"Enter z: \"))\n",
    "    \n",
    "    x.append(ix)\n",
    "    y.append(iy)\n",
    "    z.append(iz)\n",
    "\n",
    "sx = int(input(\"Enter sx: \"))\n",
    "sy = int(input(\"Enter sy: \"))\n",
    "sz = int(input(\"Enter sz: \"))\n",
    "\n",
    "for i in range(n):\n",
    "    x[i] *= sx\n",
    "    y[i] *= sy\n",
    "    z[i] *= sz\n",
    "\n",
    "for i in range(n):\n",
    "    print(f\"New coordinates {i + 1}: ({x[i]}, {y[i]}, {z[i]})\")"
   ]
  },
  {
   "cell_type": "code",
   "execution_count": 9,
   "id": "6187583e",
   "metadata": {},
   "outputs": [
    {
     "name": "stdout",
     "output_type": "stream",
     "text": [
      "Enter number of coordinates: 2\n",
      "Enter x: 1\n",
      "Enter y: 1\n",
      "Enter z: 1\n",
      "Enter x: 2\n",
      "Enter y: 2\n",
      "Enter z: 2\n",
      "Choice (x/y/z): y\n",
      "New coordinates 1: (1, -1, 1)\n",
      "New coordinates 2: (2, -2, 2)\n"
     ]
    }
   ],
   "source": [
    "# Reflection: x-axis/yz plane, y-axis/xz plane, and z-axis/xy plane\n",
    "\n",
    "n = int(input(\"Enter number of coordinates: \"))\n",
    "\n",
    "x = []\n",
    "y = []\n",
    "z = []\n",
    "\n",
    "for i in range(n):\n",
    "    ix = int(input(\"Enter x: \"))\n",
    "    iy = int(input(\"Enter y: \"))\n",
    "    iz = int(input(\"Enter z: \"))\n",
    "    \n",
    "    x.append(ix)\n",
    "    y.append(iy)\n",
    "    z.append(iz)\n",
    "\n",
    "r = input(\"Select(x/y/z): \")\n",
    "\n",
    "if r == 'x':\n",
    "    for i in range(n):\n",
    "        x[i] = -x[i]\n",
    "elif r == 'y':\n",
    "    for i in range(n):\n",
    "        y[i] = -y[i]\n",
    "elif r == 'z':\n",
    "    for i in range(n):\n",
    "        z[i] = -z[i]\n",
    "\n",
    "for i in range(n):\n",
    "    print(f\"New coordinates {i + 1}: ({x[i]}, {y[i]}, {z[i]})\")"
   ]
  },
  {
   "cell_type": "code",
   "execution_count": 10,
   "id": "6e20b0d4",
   "metadata": {},
   "outputs": [
    {
     "name": "stdout",
     "output_type": "stream",
     "text": [
      "Enter number of coordinates: 1\n",
      "Enter x: 2\n",
      "Enter y: 15\n",
      "Enter z: 13\n",
      "Enter sx: 3.5\n",
      "Enter sy: 3\n",
      "Enter sz: 3\n",
      "Select(x/y/z): z\n",
      "New coordinates 1: (47.5, 54.0, 13)\n"
     ]
    }
   ],
   "source": [
    "# Shearing: x-axis, y-axi and z-axis\n",
    "\n",
    "n = int(input(\"Enter number of coordinates: \"))\n",
    "\n",
    "x = []\n",
    "y = []\n",
    "z = []\n",
    "\n",
    "for i in range(n):\n",
    "    ix = int(input(\"Enter x: \"))\n",
    "    iy = int(input(\"Enter y: \"))\n",
    "    iz = int(input(\"Enter z: \"))\n",
    "    \n",
    "    x.append(ix)\n",
    "    y.append(iy)\n",
    "    z.append(iz)\n",
    "    \n",
    "shx = float(input(\"Enter sx: \"))\n",
    "shy = float(input(\"Enter sy: \"))\n",
    "shz = float(input(\"Enter sz: \"))\n",
    "\n",
    "r = input(\"Select(x/y/z): \")\n",
    "\n",
    "if r == 'x':\n",
    "    for i in range(n):\n",
    "        y[i] = y[i] + x[i] * shy\n",
    "        z[i] = z[i] + x[i] * shz\n",
    "elif r == 'y':\n",
    "    for i in range(n):\n",
    "        x[i] = x[i] + y[i] * shx\n",
    "        z[i] = z[i] + y[i] * shz\n",
    "elif r == 'z':\n",
    "    for i in range(n):\n",
    "        x[i] = x[i] + z[i] * shx\n",
    "        y[i] = y[i] + z[i] * shy\n",
    "\n",
    "for i in range(n):\n",
    "    print(f\"New coordinates {i + 1}: ({x[i]}, {y[i]}, {z[i]})\")"
   ]
  },
  {
   "cell_type": "code",
   "execution_count": null,
   "id": "c976de21",
   "metadata": {},
   "outputs": [],
   "source": []
  }
 ],
 "metadata": {
  "kernelspec": {
   "display_name": "Python 3 (ipykernel)",
   "language": "python",
   "name": "python3"
  },
  "language_info": {
   "codemirror_mode": {
    "name": "ipython",
    "version": 3
   },
   "file_extension": ".py",
   "mimetype": "text/x-python",
   "name": "python",
   "nbconvert_exporter": "python",
   "pygments_lexer": "ipython3",
   "version": "3.10.9"
  }
 },
 "nbformat": 4,
 "nbformat_minor": 5
}
