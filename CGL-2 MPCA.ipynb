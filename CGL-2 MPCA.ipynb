{
 "cells": [
  {
   "cell_type": "markdown",
   "id": "83ca24cf",
   "metadata": {},
   "source": [
    "# **Meet Point Circle Algorithm**"
   ]
  },
  {
   "cell_type": "code",
   "execution_count": 1,
   "id": "2479a8e2",
   "metadata": {},
   "outputs": [
    {
     "name": "stdout",
     "output_type": "stream",
     "text": [
      "10\n"
     ]
    }
   ],
   "source": [
    "r = int(input())\n",
    "x1 = 0\n",
    "y1 =r"
   ]
  },
  {
   "cell_type": "code",
   "execution_count": 2,
   "id": "85fc5598",
   "metadata": {},
   "outputs": [
    {
     "name": "stdout",
     "output_type": "stream",
     "text": [
      "-9\n"
     ]
    }
   ],
   "source": [
    "po = 1- y1 \n",
    "print(po)"
   ]
  },
  {
   "cell_type": "code",
   "execution_count": 3,
   "id": "54bfb764",
   "metadata": {},
   "outputs": [
    {
     "name": "stdout",
     "output_type": "stream",
     "text": [
      "(1,10)\n",
      "(2,10)\n",
      "(3,10)\n",
      "(4,9)\n",
      "(5,9)\n",
      "(6,8)\n",
      "(7,7)\n"
     ]
    }
   ],
   "source": [
    "x = x1 \n",
    "y = r\n",
    "\n",
    "while(1):\n",
    "    if po>=0:\n",
    "        x = x + 1\n",
    "        y = y - 1\n",
    "        po = po + (2*x) + 1 - (2*y)\n",
    "        print(\"(\" + str(x) + \",\" + str(y) + \")\")\n",
    "        \n",
    "    elif po<0:\n",
    "        x = x + 1\n",
    "        po = po+ (2*x)+1\n",
    "        print(\"(\" + str(x) + \",\" + str(y) + \")\")\n",
    "        \n",
    "    if x == y:\n",
    "        break"
   ]
  },
  {
   "cell_type": "code",
   "execution_count": null,
   "id": "96beaa0c",
   "metadata": {},
   "outputs": [],
   "source": []
  }
 ],
 "metadata": {
  "kernelspec": {
   "display_name": "Python 3 (ipykernel)",
   "language": "python",
   "name": "python3"
  },
  "language_info": {
   "codemirror_mode": {
    "name": "ipython",
    "version": 3
   },
   "file_extension": ".py",
   "mimetype": "text/x-python",
   "name": "python",
   "nbconvert_exporter": "python",
   "pygments_lexer": "ipython3",
   "version": "3.10.9"
  }
 },
 "nbformat": 4,
 "nbformat_minor": 5
}
