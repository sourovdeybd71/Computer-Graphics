{
 "cells": [
  {
   "cell_type": "markdown",
   "id": "1a9666ec",
   "metadata": {},
   "source": [
    "# **Bresenham's Algorithm**"
   ]
  },
  {
   "cell_type": "code",
   "execution_count": 1,
   "id": "ac495855",
   "metadata": {},
   "outputs": [
    {
     "name": "stdout",
     "output_type": "stream",
     "text": [
      "20 10\n",
      "30 18\n"
     ]
    }
   ],
   "source": [
    "x1, y1 = input().split()\n",
    "x2, y2 = input().split()"
   ]
  },
  {
   "cell_type": "code",
   "execution_count": 2,
   "id": "e68a7f79",
   "metadata": {},
   "outputs": [],
   "source": [
    "x1 = int(x1)\n",
    "y1 = int(y1)\n",
    "x2 = int(x2)\n",
    "y2 = int(y2)"
   ]
  },
  {
   "cell_type": "code",
   "execution_count": 3,
   "id": "1fcd4706",
   "metadata": {},
   "outputs": [
    {
     "name": "stdout",
     "output_type": "stream",
     "text": [
      "6\n"
     ]
    }
   ],
   "source": [
    "delx = x2 - x1\n",
    "dely = y2 - y1\n",
    "po = (2*dely - delx)\n",
    "print(po)"
   ]
  },
  {
   "cell_type": "code",
   "execution_count": 4,
   "id": "95e38a26",
   "metadata": {},
   "outputs": [
    {
     "name": "stdout",
     "output_type": "stream",
     "text": [
      "(21,11)\n",
      "(22,12)\n",
      "(23,12)\n",
      "(24,13)\n",
      "(25,14)\n",
      "(26,15)\n",
      "(27,16)\n",
      "(28,16)\n",
      "(29,17)\n",
      "(30,18)\n"
     ]
    }
   ],
   "source": [
    "x = x1 \n",
    "y = y1\n",
    "\n",
    "while(1):\n",
    "    if po>=0:\n",
    "        po = po + (2*dely) - (2*delx)\n",
    "        x = x + 1\n",
    "        y = y + 1\n",
    "        print(\"(\" + str(x) + \",\" + str(y) + \")\")\n",
    "    elif po<0:\n",
    "        po = po+ (2*dely)\n",
    "        x = x + 1\n",
    "        print(\"(\" + str(x) + \",\" + str(y) + \")\")\n",
    "    if x ==x2 and y == y2:\n",
    "        break\n",
    "        "
   ]
  },
  {
   "cell_type": "code",
   "execution_count": null,
   "id": "9c0c85e3",
   "metadata": {},
   "outputs": [],
   "source": []
  }
 ],
 "metadata": {
  "kernelspec": {
   "display_name": "Python 3 (ipykernel)",
   "language": "python",
   "name": "python3"
  },
  "language_info": {
   "codemirror_mode": {
    "name": "ipython",
    "version": 3
   },
   "file_extension": ".py",
   "mimetype": "text/x-python",
   "name": "python",
   "nbconvert_exporter": "python",
   "pygments_lexer": "ipython3",
   "version": "3.10.9"
  }
 },
 "nbformat": 4,
 "nbformat_minor": 5
}
