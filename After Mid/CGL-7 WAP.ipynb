{
 "cells": [
  {
   "cell_type": "markdown",
   "id": "ae0ff647",
   "metadata": {
    "id": "ae0ff647"
   },
   "source": [
    "# Weiler Atherton Polygon clipping algorithm"
   ]
  },
  {
   "cell_type": "code",
   "execution_count": null,
   "id": "a9256c14",
   "metadata": {
    "id": "a9256c14",
    "outputId": "c7fa0534-6f03-44c6-a27d-7b724182fa23"
   },
   "outputs": [
    {
     "name": "stdout",
     "output_type": "stream",
     "text": [
      "xmin: 0,  xmax: 4,   ymin: 0,   ymax:3\n",
      "\n",
      "Subject list: [(1, 5), (4, 5), ['i'], (3, 1), (2, 1), ['i'], (2, 4), ['i'], (1, 1), ['i']]\n"
     ]
    }
   ],
   "source": [
    "window = [(0, 3), (4, 3), (4, 0), (0, 0)]\n",
    "\n",
    "xmin = window[0][0]\n",
    "xmax = window[1][0]\n",
    "ymin = window[3][1]\n",
    "ymax = window[0][1]\n",
    "\n",
    "print(f'xmin: {xmin},  xmax: {xmax},   ymin: {ymin},   ymax:{ymax}')\n",
    "\n",
    "polygon = [(1, 5), (4, 5), (3, 1), (2, 1), (2, 4), (1, 1), (1, 5)]\n",
    "\n",
    "subject_list = []\n",
    "\n",
    "for i in range(len(polygon) - 1):\n",
    "    x = polygon[i]\n",
    "    y = polygon[i + 1]\n",
    "\n",
    "    if (xmin <= x[0] <= xmax and ymin <= x[1] <= ymax) == (xmin <= y[0] <= xmax and ymin <= y[1] <= ymax):\n",
    "        subject_list.append(x)\n",
    "    else:\n",
    "        subject_list.append(x)\n",
    "        subject_list.append([\"i\"])\n",
    "\n",
    "print()\n",
    "print('Subject list:', subject_list)"
   ]
  },
  {
   "cell_type": "code",
   "execution_count": null,
   "id": "b0a1aa63",
   "metadata": {
    "id": "b0a1aa63"
   },
   "outputs": [],
   "source": [
    "# Clip list ??"
   ]
  },
  {
   "cell_type": "code",
   "execution_count": null,
   "id": "fac2a1df",
   "metadata": {
    "id": "fac2a1df"
   },
   "outputs": [],
   "source": []
  }
 ],
 "metadata": {
  "colab": {
   "provenance": []
  },
  "kernelspec": {
   "display_name": "Python 3 (ipykernel)",
   "language": "python",
   "name": "python3"
  },
  "language_info": {
   "codemirror_mode": {
    "name": "ipython",
    "version": 3
   },
   "file_extension": ".py",
   "mimetype": "text/x-python",
   "name": "python",
   "nbconvert_exporter": "python",
   "pygments_lexer": "ipython3",
   "version": "3.10.9"
  }
 },
 "nbformat": 4,
 "nbformat_minor": 5
}
