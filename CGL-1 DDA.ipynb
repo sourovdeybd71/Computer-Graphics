{
 "cells": [
  {
   "cell_type": "markdown",
   "id": "51743b3b",
   "metadata": {},
   "source": [
    "# **Digital Differential Analyzer**"
   ]
  },
  {
   "cell_type": "code",
   "execution_count": 1,
   "id": "68cc77a8",
   "metadata": {},
   "outputs": [
    {
     "name": "stdout",
     "output_type": "stream",
     "text": [
      "2 3\n",
      "6 15\n"
     ]
    }
   ],
   "source": [
    "#input: (x1,y1) to (x2,y2):\n",
    "\n",
    "x1, y1 = input().split()\n",
    "x2, y2 = input().split()"
   ]
  },
  {
   "cell_type": "code",
   "execution_count": 2,
   "id": "501fe5f5",
   "metadata": {},
   "outputs": [],
   "source": [
    "# Convert string to int:\n",
    "\n",
    "x1 = int(x1)\n",
    "y1 = int(y1)\n",
    "x2 = int(x2)\n",
    "y2 = int(y2)"
   ]
  },
  {
   "cell_type": "code",
   "execution_count": 3,
   "id": "060338e8",
   "metadata": {},
   "outputs": [
    {
     "name": "stdout",
     "output_type": "stream",
     "text": [
      "<class 'int'>\n"
     ]
    }
   ],
   "source": [
    "print(type(x1))"
   ]
  },
  {
   "cell_type": "code",
   "execution_count": 4,
   "id": "1a547dfc",
   "metadata": {},
   "outputs": [
    {
     "name": "stdout",
     "output_type": "stream",
     "text": [
      "3.0\n"
     ]
    }
   ],
   "source": [
    "# Slope calculation:\n",
    "\n",
    "delx = x2 -x1\n",
    "dely = y2 -y1\n",
    "m = dely / delx\n",
    "\n",
    "print(m)"
   ]
  },
  {
   "cell_type": "code",
   "execution_count": 5,
   "id": "011fc9b4",
   "metadata": {},
   "outputs": [],
   "source": [
    "# Conditions:\n",
    "\n",
    "if m>0 and m<=1:\n",
    "    upx = 1\n",
    "    upy = m\n",
    "elif m>=-1 and m<=0:\n",
    "    upx = -1\n",
    "    upy = -m\n",
    "elif m>1:\n",
    "    upx = 1/m\n",
    "    upy = 1\n",
    "elif m<-1:\n",
    "    upx = -(1/m)\n",
    "    upy = -1"
   ]
  },
  {
   "cell_type": "code",
   "execution_count": 6,
   "id": "9672565c",
   "metadata": {},
   "outputs": [
    {
     "name": "stdout",
     "output_type": "stream",
     "text": [
      "0.3333333333333333\n",
      "1\n"
     ]
    }
   ],
   "source": [
    "print(upx)\n",
    "print(upy)"
   ]
  },
  {
   "cell_type": "code",
   "execution_count": 7,
   "id": "7f9b9ae2",
   "metadata": {},
   "outputs": [
    {
     "name": "stdout",
     "output_type": "stream",
     "text": [
      "(2,3)\n",
      "(2,4)\n",
      "(3,5)\n",
      "(3,6)\n",
      "(3,7)\n",
      "(4,8)\n",
      "(4,9)\n",
      "(4,10)\n",
      "(5,11)\n",
      "(5,12)\n",
      "(5,13)\n",
      "(6,14)\n",
      "(6,15)\n"
     ]
    }
   ],
   "source": [
    "x = x1\n",
    "y = y1\n",
    "\n",
    "while(1):\n",
    "    print(\"(\" + str(round(x)) + \",\" + str(round(y)) +\")\")\n",
    "    x = x + upx\n",
    "    y = y + upy\n",
    "    if round(x) == x2 and round(y) == y2:\n",
    "        print(\"(\" + str(round(x)) + \",\" + str(round(y)) +\")\")\n",
    "        break"
   ]
  },
  {
   "cell_type": "code",
   "execution_count": null,
   "id": "5327dea1",
   "metadata": {},
   "outputs": [],
   "source": []
  }
 ],
 "metadata": {
  "kernelspec": {
   "display_name": "Python 3 (ipykernel)",
   "language": "python",
   "name": "python3"
  },
  "language_info": {
   "codemirror_mode": {
    "name": "ipython",
    "version": 3
   },
   "file_extension": ".py",
   "mimetype": "text/x-python",
   "name": "python",
   "nbconvert_exporter": "python",
   "pygments_lexer": "ipython3",
   "version": "3.10.9"
  }
 },
 "nbformat": 4,
 "nbformat_minor": 5
}
